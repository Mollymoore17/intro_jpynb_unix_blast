{
 "cells": [
  {
   "cell_type": "markdown",
   "metadata": {},
   "source": [
    "---- \n",
    "# 2 BLAST similarity searches\n",
    "In this second section we will investigate and use **blast** the most important software tool in biology."
   ]
  },
  {
   "cell_type": "markdown",
   "metadata": {},
   "source": [
    "## Learning Outcomes\n",
    "At the end of this class you should:\n",
    "- Have basic knowledge of blast similarity searches\n",
    "- Create a blast database at the command line\n",
    "- Perform **grep searches** on very large files\n",
    "- Be able to perform a **blast search** from the command line and gain biological insight"
   ]
  },
  {
   "cell_type": "markdown",
   "metadata": {},
   "source": [
    "## 2.1 What is BLAST and how does it work?\n",
    "**Task: In groups of 2-4 spend 5 minutes to research BLAST searches. How will you do this? What questions will you ask?  \n",
    "You will prepare yourself to contribute to a group discussions about blast searching.**"
   ]
  },
  {
   "cell_type": "markdown",
   "metadata": {},
   "source": [
    "## 2.2 The CFTR gene"
   ]
  },
  {
   "cell_type": "markdown",
   "metadata": {},
   "source": [
    "## Assessment 1; building a blast database and searching it\n",
    "To demonstrate your competency, follow the instructions to search a chromosome_7 blast database from the command line with the provided CFTR query sequence. The instructions are in the two sections below"
   ]
  },
  {
   "cell_type": "markdown",
   "metadata": {},
   "source": [
    "## 2.3 Building a BLAST database\n",
    "You have been provided with the seqeunce of human chromosome 7 in `GRCh38_chr7.fas`. Have a quick look at it to make sure it is what you expect."
   ]
  },
  {
   "cell_type": "code",
   "execution_count": null,
   "metadata": {},
   "outputs": [],
   "source": []
  },
  {
   "cell_type": "markdown",
   "metadata": {},
   "source": [
    "Blast searches a very large amount of ('reference') sequence very quickly for matches to the query sequence. In order to do this efficiently the reference sequences must be organised into a database structure. The blast suite of programs will create the database for you using the `makeblastdb` command.\n",
    "\n",
    "As with all the programs you have used you need to call the program with its name, tell it what the input file is, give it any options it needs (e.g. nucleotide, protein), and tell it where to save the output and under what name.\n",
    "\n",
    "The command to make a blast database would look like this:\n",
    "```\n",
    "$ makeblastdb -in data/CFTR/GRCh38_chr7.fas -dbtype nucl -title my_chr7_db -out CFTRch7\n",
    "```\n",
    "Discuss this command until you understand what parts do what. Remember that flags (-flag) are there to flag-up what the next part does. The `-in` flag precedes the input file. \n",
    "\n",
    "**Time to run it for yourself, but in a slightly changed format**\n",
    "\n",
    "First lets prepare some data. Copy, paste, and run the line below (**NB you don't need the dollar sign** the command starts with `gunzip`). This might take a few minutes. When the following cell changes from `In [*]` to a number replacing the asterisk, its done. If you only see a number as normal, its done.\n",
    "```\n",
    "$ gunzip -c data/CFTR/GRCh38_chr7.fas.gz | makeblastdb -in - -dbtype nucl -title my_chr7_db -out CFTRch7\n",
    "```"
   ]
  },
  {
   "cell_type": "code",
   "execution_count": null,
   "metadata": {},
   "outputs": [],
   "source": []
  },
  {
   "cell_type": "markdown",
   "metadata": {},
   "source": [
    "- What does the pipe | do? \n",
    "- What is gunzip? \n",
    "- Where will the output files be saved?"
   ]
  },
  {
   "cell_type": "markdown",
   "metadata": {},
   "source": [
    "## 2.4 BLASTing a sequence file against the database\n",
    "Now is the time to actually blast a sequence against the database to find out where it matches. You are provided with a sequence file containing a segment of the human CFTR gene called `CFTRshort.fas`. Use the following command to search the database. \n",
    "```\n",
    "$ blastn -db CFTRch7 -num_descriptions 50 -query data/CFTR/CFTRshort.fas -out CFTR_chr7_blastn.out\n",
    "```"
   ]
  },
  {
   "cell_type": "code",
   "execution_count": null,
   "metadata": {},
   "outputs": [],
   "source": []
  },
  {
   "cell_type": "markdown",
   "metadata": {},
   "source": [
    "If you have run the command without errors then you have completed to bioinformatics part of your analysis. There are just a few more things to do. For a start you will want to look at and interpret your results. You already know how to examine large text files, why not have a look at the `CFTR_chr7_blastn.out` file. It is actually quite small, but even if you had returned thousands of results you now have the skills to view and search them. Discuss the content with a demonstrator or myself."
   ]
  },
  {
   "cell_type": "markdown",
   "metadata": {},
   "source": [
    "You have detected a specific mutant genotype called \"cftr delta-f508\"\n",
    "A useful place to look at human mutants is OMIM Online Mendelian Inheritance in Man. Try a search for \"cftr delta-f508\"\n",
    "\n",
    "https://www.omim.org/about\n",
    "\n",
    "If you are interested you can see the specific sequence you have just investigated in a genome browser\n",
    "\n",
    "https://www.ncbi.nlm.nih.gov/variation/view/?chr=7&from=117559592&to=117559594&mk=117559592%3A117559594%7CNC_000007.14&assm=GCF_000001405.26\n"
   ]
  }
 ],
 "metadata": {
  "kernelspec": {
   "display_name": "Python 3",
   "language": "python",
   "name": "python3"
  },
  "language_info": {
   "codemirror_mode": {
    "name": "ipython",
    "version": 3
   },
   "file_extension": ".py",
   "mimetype": "text/x-python",
   "name": "python",
   "nbconvert_exporter": "python",
   "pygments_lexer": "ipython3",
   "version": "3.7.1"
  }
 },
 "nbformat": 4,
 "nbformat_minor": 2
}
