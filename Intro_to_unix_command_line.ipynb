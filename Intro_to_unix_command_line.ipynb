{
 "cells": [
  {
   "cell_type": "markdown",
   "metadata": {},
   "source": [
    "### 500697 Genetic Analysis\n",
    "# Introduction to Bioinformatics\n",
    "\n",
    "### Dr Dave Lunt\n",
    "d.h.lunt@hull.ac.uk\n"
   ]
  },
  {
   "cell_type": "markdown",
   "metadata": {},
   "source": [
    "### On the line below please double click then type your name and/or student ID"
   ]
  },
  {
   "cell_type": "markdown",
   "metadata": {},
   "source": [
    "Student:"
   ]
  },
  {
   "cell_type": "markdown",
   "metadata": {},
   "source": [
    "Although we encourage discussion and some forms of working together **you will each need to complete a notebook** such as this. You will need to use the `File` menu above to `Export Notebook As` PDF at the *end* of this practical class. You will then upload it to Canvas as your assessment. Please make sure that all your work is entered in this workbook. It is essential that you fill out the `Assignment` sections in order to receive the marks."
   ]
  },
  {
   "cell_type": "markdown",
   "metadata": {},
   "source": [
    "## 0. General Introduction\n",
    "In this practical class you will be introduced to Bioinformatics, the computational study of large scale DNA or amino acid data. \n",
    "\n",
    "Bioinformatics is a truly central discipline in all of biology, scientists with bioinformatics skills are highly sought after and the employment opportunities are superb.\n",
    "\n",
    "**DON’T PANIC! YOU DO NOT NEED COMPUTATIONAL SKILLS TO CARRY OUT THIS ASSESSMENT. EVERYTHING YOU NEED TO KNOW YOU CAN LEARN IN THIS CLASS**\n",
    "\n",
    "It is essential however that you engage with the exercises, reading them carefully, trying for yourself, and asking questions of your lab partners and the demonstrators.\n",
    "\n",
    "We will introduce you to two key areas in bioinformatics\n",
    "1. using the unix command line; these are essential skills required for bioinformaatic investigations\n",
    "2. `blast` searching a DNA database;  `blast` search is the most used of all biological software\n",
    "\n",
    "The goals are that you will have the skills to begin a bioinformatics investigation, and have used the most important software tool in biology - `blast`"
   ]
  },
  {
   "cell_type": "markdown",
   "metadata": {},
   "source": [
    "## Learning Outcomes\n",
    "At the end of this class you should:\n",
    "- **Understand the utility** of the command line\n",
    "- Be able to **navigate** files and directories from the command line\n",
    "- Perform **grep searches** on very large files\n",
    "- Be able to perform a **blast search** from the command line and gain biological insight"
   ]
  },
  {
   "cell_type": "markdown",
   "metadata": {},
   "source": [
    "# 1. Introduction to the command line\n",
    "Below we will give only a very simple overview. The best way to learn the command line is to Google search for instructions and then try it yourself, experimenting as much as you can. We have also given links to other teaching resources at the end.\n",
    "\n",
    "Here we have embedded the unix command line into a Jupyter notebook so that you have the manual and the exercises together. A normal terminal would be a seperate window (you used one for the git clone command), but otherwise it is the same. In the *instructions* below we denote commands typed at the terminal with a `$` sign, whereas the output, the info returned by the terminal, has no dollar sign.\n",
    "```\n",
    "$ a typed command\n",
    "output output output\n",
    "```\n",
    "\n",
    "The *actual* terminal here are the grey cells (boxes) prefixed by `[ ]:`  \n",
    "Here is one:"
   ]
  },
  {
   "cell_type": "code",
   "execution_count": null,
   "metadata": {},
   "outputs": [],
   "source": []
  },
  {
   "cell_type": "markdown",
   "metadata": {},
   "source": [
    "You can run commands in a terminal cell by clicking in it and then Shift-Enter. Else you click the triangular run button in the menu bar. Try it below"
   ]
  },
  {
   "cell_type": "code",
   "execution_count": 2,
   "metadata": {},
   "outputs": [
    {
     "name": "stdout",
     "output_type": "stream",
     "text": [
      "Hello World!\n"
     ]
    }
   ],
   "source": [
    "echo 'Hello World!'"
   ]
  },
  {
   "cell_type": "markdown",
   "metadata": {},
   "source": [
    "You should see that the output `'Hello World!'` has been printed direcly below the cell (we'll introduce the `echo` command later)"
   ]
  },
  {
   "cell_type": "markdown",
   "metadata": {},
   "source": [
    "# 2 Navigating the file system\n",
    "\n",
    "The first thing to do is to learn the basics of moving between places on your computer, checking where you are, checking what files are present and having a quick look at them. Some of the terminology is perhaps slightly new (‘directories’ rather than ‘folders’) but using the right words will mean you are speaking the same language as everyone else and make your life easier when Googling for solutions.\n",
    "\n",
    "**THIS IS IMPORTANT --> As the navigation commands are introduced below try them on your own system**"
   ]
  },
  {
   "cell_type": "markdown",
   "metadata": {},
   "source": [
    "## 2.1 Checking where you are (`pwd`), changing directories (`cd`) and listing contents (`ls`)"
   ]
  },
  {
   "cell_type": "markdown",
   "metadata": {},
   "source": [
    "### 2.1.1 Where am I? pwd"
   ]
  },
  {
   "cell_type": "markdown",
   "metadata": {},
   "source": [
    "At the command line you need to know “where you are” i.e. which directory (folder) you have open and are working in. Question: If you issue the command to ‘list all files’ which files will be listed? Answer: Those in the directory where you are currently working, called the working directory. The command to find out where you are is `pwd` short for ‘print working directory’. NB: ‘print’ when working at the command line means ‘display on the screen’ rather than ‘write this to a piece of paper’. \n",
    "\n",
    "Type the command to print working directory `pwd` below, and hit Shift-Enter to run the command."
   ]
  },
  {
   "cell_type": "code",
   "execution_count": null,
   "metadata": {},
   "outputs": [],
   "source": [
    "pwd"
   ]
  },
  {
   "cell_type": "markdown",
   "metadata": {},
   "source": [
    "You should see something like this:\n",
    "\n",
    "```\n",
    "$ pwd\n",
    "/home/bs/username/intro_unix_and_blast\n",
    "```"
   ]
  },
  {
   "cell_type": "markdown",
   "metadata": {},
   "source": [
    "**Tip: if you want to try something and there isn't an empty terminal cell, use the menu bar + to Insert Cell**\n",
    "\n",
    "Try inserting a cell below and check your working directory again"
   ]
  },
  {
   "cell_type": "markdown",
   "metadata": {},
   "source": [
    "It would be useful now to know what folders and files are present in this location"
   ]
  },
  {
   "cell_type": "markdown",
   "metadata": {},
   "source": [
    "### 2.1.2 Listing the contents of a directory with `ls`\n",
    "\n",
    "A very common thing you will want to do is to **display the contents of a directory**, i.e. list all the files. \n",
    "\n",
    "You can list the files (and directories) in your working directory using the `ls` command. Try `ls` now"
   ]
  },
  {
   "cell_type": "code",
   "execution_count": 4,
   "metadata": {},
   "outputs": [
    {
     "name": "stdout",
     "output_type": "stream",
     "text": [
      "Introduction_to_unix_and_blast.ipynb Untitled.ipynb\n",
      "LICENSE                              \u001b[33mdata\u001b[39;49m\u001b[0m\n",
      "README.md                            notebook.tex\n"
     ]
    }
   ],
   "source": [
    "ls"
   ]
  },
  {
   "cell_type": "markdown",
   "metadata": {},
   "source": [
    "You will see the files and directories in your current folder displayed by `ls`. The jupyter notebook you are now reading will have the extension .ipnb and there will be README.md and LICENCE files. Both these may be ignored (though you will soon learn how to examine them if you wish). There will also be a directory called **data** that may be displayed in a different colour to show that it is a directory not a file."
   ]
  },
  {
   "cell_type": "markdown",
   "metadata": {},
   "source": [
    "### 2.1.3 Chnaging directories with cd"
   ]
  },
  {
   "cell_type": "markdown",
   "metadata": {},
   "source": [
    "But maybe this isn’t where you want to be, maybe you need to have a look at your new data, in which case you need to `‘change directory’` and the command for that is `cd`\n",
    "\n",
    "```\n",
    "$ cd data\n",
    "$ cd my_sequences\n",
    "$ pwd\n",
    "\n",
    "/home/bs/username/intro_unix_and_blast/data/my_sequences\n",
    "```"
   ]
  },
  {
   "cell_type": "markdown",
   "metadata": {},
   "source": [
    "**Explanation:** Spaces in file and directory names cause difficulties as spaces are treated as the end of a file name. When looking for ‘my file’ it complains that it can’t find ‘my’. \n",
    "```\n",
    "$ cd my sequences\n",
    "-bash: cd: my: No such file or directory\n",
    "```\n",
    "\n",
    "Although this can be got around by using quotes ‘`my file`’ it is better to name files replacing spaces with underscores (e.g. `my_file`), hyphens (e.g. `my-file`), or concatenating the words (e.g. `myfile`)."
   ]
  },
  {
   "cell_type": "markdown",
   "metadata": {},
   "source": [
    "**Try navigating for yourself down to the `my_sequences` folder as outlined above.** Remember you can add extra cells, and use `pwd` and `ls` to help you"
   ]
  },
  {
   "cell_type": "code",
   "execution_count": 7,
   "metadata": {},
   "outputs": [],
   "source": []
  },
  {
   "cell_type": "code",
   "execution_count": 9,
   "metadata": {},
   "outputs": [],
   "source": []
  },
  {
   "cell_type": "markdown",
   "metadata": {},
   "source": [
    "You can see that the `/` symbol denotes levels of directories, so that the ‘my_sequences’ directory is contained within the ‘data’ directory which is within the user's 'home' directory, and ultimately in the system’s ‘home’ directory. \n",
    "\n",
    "These **file paths** can sometimes be long but they are always explicit, which is a very good thing for reproducibility. There is no excuse for failing to remember where the data was stored for your analysis, here it is written out, and in the real world you will want to record this as part of your experiment. \n",
    "\n",
    "You can go up one level (to 'data') by using double dots (ensure there is always a space between the `cd` command and the directory you wish to go to).\n",
    "```\n",
    "$ cd ..\n",
    "$ pwd\n",
    "\n",
    "/home/bs/userename/intro_unix_and_blast/data\n",
    "```\n",
    "\n",
    "**Try it for yourself** (remember to always try new commands for yourself, it is an important part of your learning, don't wait for my typed reminders)"
   ]
  },
  {
   "cell_type": "code",
   "execution_count": null,
   "metadata": {},
   "outputs": [],
   "source": []
  },
  {
   "cell_type": "code",
   "execution_count": null,
   "metadata": {},
   "outputs": [],
   "source": []
  },
  {
   "cell_type": "markdown",
   "metadata": {},
   "source": [
    "What happens if you use the `cd` command without telling the system where you would like to change directories to?  \n",
    "Try it. How can you find out which directory you are now in?\n",
    "```\n",
    "$ cd \n",
    "$ pwd \n",
    "/home/bs/username\n",
    "```\n",
    "\n",
    "Using `cd` command on its own returns you to your **user’s home directory**, in this case `/username` from wherever you are. NB it is **your** home directory, in my case called davelunt, and its nested within the directory called home by the computer where all users' directories are kept. **your home directory** is an important concept, this other home folder is the only difficult part, and can be ignored for the rest of today. In the example below *username* means your username, whatever it is.\n",
    "\n",
    "The tilde symbol (`~`) is shorthand for your home directory so `username/intro_unix_and_blast` and `~/intro_unix_and_blast` refer to the same directory, which saves a little typing. \n",
    "\n",
    "Another very useful shortcut is `cd -` (dash) which takes you to the previous directory that you were in. This is really useful when you need to swap between directories that are separated by several levels or that have long names.\n",
    "\n"
   ]
  },
  {
   "cell_type": "markdown",
   "metadata": {},
   "source": [
    "```\n",
    "$ cd ~/intro_unix_and_blast/data/my_sequences\n",
    "$ pwd\n",
    "/home/bs/username/intro_unix_and_blast/data/my_sequences\n",
    "$ cd\n",
    "$ pwd\n",
    "/home/bs/username\n",
    "$ cd -\n",
    "$ pwd\n",
    "/home/bs/username/intro_unix_and_blast/data/my_sequences\n",
    "$ cd -\n",
    "$ pwd\n",
    "/home/bs/username\n",
    "```\n",
    "\n",
    "Make sure that you are actually typing this out for yourself rather than just reading along. This **active learning** will really help it to stick in memory, and come back when you need it, a bit like developing muscle memory.\n"
   ]
  },
  {
   "cell_type": "markdown",
   "metadata": {},
   "source": [
    "### 2.1.4 tab completion saves time and errors"
   ]
  },
  {
   "cell_type": "markdown",
   "metadata": {},
   "source": [
    "You are probably slightly annoyed now that you have to type in all these directory names, which are long and complex. If you make one typo it will result in an error. Real bioinformaticians make use of the tab key a lot. tab will suggest completions of your file path.\n",
    "\n",
    "If I am in the home directory and I type `$ cd intr<tab>` it will autocomplete to `$ cd intro_unix_and_blast`\n",
    "\n",
    "Because of the way this Jupyter notebook is set up it may instead give you a list of options, you can navigate using the arrow keys, and hit RETURN when you have the right option.\n",
    "This saves a LOT of typing and prevents errors. Insert a cell below and try it now. "
   ]
  },
  {
   "cell_type": "markdown",
   "metadata": {},
   "source": [
    "### 2.1.5 Chaining commands together with a semicolon\n",
    "Above we were issuing commands one at a time; first `cd` then `pwd`. To chain commands together on the same line separate them with a semicolon ie `cd;pwd`\n",
    "\n",
    "Try the exercise from the `cd -` section above again, but now using semicolons. You should only need 4 commands not 8.\n",
    "\n",
    "Are you tab completing the addresses?"
   ]
  },
  {
   "cell_type": "code",
   "execution_count": null,
   "metadata": {},
   "outputs": [],
   "source": [
    "ls"
   ]
  },
  {
   "cell_type": "markdown",
   "metadata": {},
   "source": [
    "## Quiz 1: Ways to return home\n",
    "There are 5 ways that you should now know to return to your home directory. Most people only remember 2 or 3, what can you do? Please work with someone nearby, tell a demonstrator, list them below, and we'll see who are the champions.\n"
   ]
  },
  {
   "cell_type": "markdown",
   "metadata": {},
   "source": [
    "### 2.1.6 Summary\n",
    "```\n",
    "pwd\tprint working directory, show where you are\n",
    "ls\tlist, show all the files in your current directory\n",
    "cd\tchange directory, move to another location\n",
    ";\tsemicolons can chain together commands on one line\n",
    "```\n",
    "\n",
    "Test yourself, demonstrate that you can do something using each of these"
   ]
  },
  {
   "cell_type": "markdown",
   "metadata": {},
   "source": [
    "# 3 Inspecting file contents, and searching within text files"
   ]
  },
  {
   "cell_type": "markdown",
   "metadata": {},
   "source": [
    "## 3.1 Inspecting files"
   ]
  },
  {
   "cell_type": "markdown",
   "metadata": {},
   "source": [
    "Much of bioinformatics is the inspection and retrieval of information from text files. This data is the source of all subsequent analyses and we need to make sure it is the right data in the right format.\n",
    "\n",
    "If we  want to inspect a file we can display its contents using several unix programs:\n",
    "```\n",
    "cat  \tto print the whole file to the screen\n",
    "less \tto print the file to the screen a page at a time\n",
    "head \tto print the first few lines of the file on screen\n",
    "tail \tto print the last few lines of the file on screen\n",
    "```\n",
    "One of the problems with DNA sequence files is that they can be large - several hundred megabytes to a few gigabytes is not uncommon. Viewing these files can be difficult, as the files need to be loaded into memory, and can therefore take a great deal of time for the text editor to read from the disk. The `head` and `tail` commands are very efficient for viewing large files such as these. \n",
    "\n",
    "Remember Googling things is encouraged, it is a great way to learn bioinformatics! Google `head` and `tail` to learn more about them if you wish.\n",
    "\n",
    "Remembering tab completion navigate to the directory `/data/my_sequences`. Tip; when navigating use `ls` to see what is available.\n",
    "\n",
    "Some of these files e.g. `C.09.F.fasta` are quite large (~30Mb), while the others are smaller. Only one of the commands above is inappropriate for large files all the others will be useful. If you have a problem don't panic, ask a demonstrator.\n",
    "\n",
    "If unsure about the size of a file `head` is a good way to have a look at it. If you actually want to know how big a file is you can display this with a version of the `ls` command `ls -lh` Try it.\n",
    "\n",
    "All the commands above will be very useful for basic bioinformatics work, they are key skills. "
   ]
  },
  {
   "cell_type": "markdown",
   "metadata": {},
   "source": [
    "`less` is a useful command but for some reason does not work well in this Jupyter notebook, causing problems with the way it runs. Its a minor bug, you can ignore `less` or better still ask one of us to show you how to use it in an independent terminal."
   ]
  },
  {
   "cell_type": "code",
   "execution_count": 3,
   "metadata": {},
   "outputs": [
    {
     "name": "stdout",
     "output_type": "stream",
     "text": [
      "README.md        display-test.fas headers-test.fas\n"
     ]
    }
   ],
   "source": [
    "cd headers; ls"
   ]
  },
  {
   "cell_type": "markdown",
   "metadata": {},
   "source": [
    "----\n",
    "## Assessment 1 - viewing files\n",
    "\n",
    "Navigate to the `data/headers` directory.\n",
    "How big are the files? Which commands should you use for big or small files and why?\n",
    "\n",
    "In the 3 cells below use each of the following commands to view the contents of the file `display-test.fas`.\n",
    "1. cat\n",
    "2. head\n",
    "3. tail \n"
   ]
  },
  {
   "cell_type": "code",
   "execution_count": null,
   "metadata": {},
   "outputs": [],
   "source": []
  },
  {
   "cell_type": "code",
   "execution_count": null,
   "metadata": {},
   "outputs": [],
   "source": []
  },
  {
   "cell_type": "code",
   "execution_count": null,
   "metadata": {},
   "outputs": [],
   "source": []
  },
  {
   "cell_type": "markdown",
   "metadata": {},
   "source": [
    "-----"
   ]
  },
  {
   "cell_type": "markdown",
   "metadata": {},
   "source": [
    "## 3.2 Searching within files\n",
    "Searching within very large files however can also be problematic, especially using the standard 'find' functions in a text editor, which aren’t optimised for performing searches across very large files. For this reason various tools have been created that allow users to search within large files from the command line, and are highly optimised for their function. One of the most useful utilities for searching within a file is `grep` (global regular expression parser).\n",
    "\n",
    "`grep` is very simple to use. At the command line you will need to type the word `grep`, followed by the text you are searching for, followed by where (the filename) to look for it. For example, to search for the word Fungi in our 18S_seqs.fas file we do the following:\n",
    "```\n",
    "$ cd ~/intro_unix_and_blast/data/my_sequences/\n",
    "$ grep 'Fungi' 18S_seqs.fas\n",
    ">AY642706_10 1401 Eukarya/Fungi\n",
    "```\n",
    "\n",
    "This returns the text `>AY642706_10 1401 Eukarya/Fungi` which is the single line that contains the word Fungi. This is the output of `grep`, the line on which the search phrase is found.\n",
    "\n",
    "Make sure that you are trying this for yourself, by inserting cells and giving the command\n",
    "\n",
    "We can confirm that there is only one instance by using the **count flag** (`-c`) with `grep` as follows:\n",
    "```\n",
    "$ grep -c 'Fungi' 18S_seqs.fas\n",
    "1\n",
    "```\n",
    "\n",
    "(Flags are useful things, they allow the default behaviour of a command to be refined. You have already used one (-lh) with the `ls` command to make it show you files sizes. See the section on HELP below to learn how to list all the modifier flags for a command.)"
   ]
  },
  {
   "cell_type": "markdown",
   "metadata": {},
   "source": [
    "### 3.2.1 How many sequences do I have?\n",
    "A very common question is to ask is ‘how many DNA sequence records are in this enormous fasta file?’ \n",
    "\n",
    "**Tip: Do you know what a sequence record looks like? Quickly learn about fasta sequence files from Appendix 1. Now try to see if the sequence file '18S_seqs.fas' matches your expectations. You already have the skills to do this without loading the whole file into memory, can you remember how? Check above if not.**\n",
    "\n",
    "In order to find out the number of sequences you could of course search for all the greater than `>` symbols, which is almost certainly the number of records. However, you should really search for all the lines *starting with* > rather than the number of times it occurs, as it is possible for a fasta header to contain an internal > . ‘Line starts with’ is represented by the `^` symbol. "
   ]
  },
  {
   "cell_type": "markdown",
   "metadata": {},
   "source": [
    "Try to design a `grep` search to count the number of fasta header lines. Do not copy/paste from any web resource. Discuss your solution with your partner."
   ]
  },
  {
   "cell_type": "markdown",
   "metadata": {},
   "source": [
    "----\n",
    "# Assessment 2 `grep` "
   ]
  },
  {
   "cell_type": "markdown",
   "metadata": {},
   "source": [
    "Use a `grep` search to count the number of fasta header lines in the two files `18S_seqs.fas` and  `C.09.F.fasta`. Ensure that the searches and output are below."
   ]
  },
  {
   "cell_type": "code",
   "execution_count": null,
   "metadata": {},
   "outputs": [],
   "source": []
  },
  {
   "cell_type": "code",
   "execution_count": null,
   "metadata": {},
   "outputs": [],
   "source": []
  },
  {
   "cell_type": "markdown",
   "metadata": {},
   "source": [
    "----"
   ]
  },
  {
   "cell_type": "markdown",
   "metadata": {},
   "source": [
    "Have you remembered the quotation marks around the search phrase? Unfortunately if you haven't your solution will probably delete the data file! Why? Look at section 2.3.1 below and discuss. If you have deleted your file a spare file can be found in `/data/backup`. You only need to copy from /backup if you have deleted your file. Can you find a way from the command line to **copy** this file to your current directory? Google for a solution on how to copy a file at the unix command line. Try it, and list the files to see if you have been successful. Check with a demonstrator if you need.\n",
    "\n",
    "You may try your `grep` search again in a new cell below and still get the marks for completing this assessment."
   ]
  },
  {
   "cell_type": "code",
   "execution_count": null,
   "metadata": {},
   "outputs": [],
   "source": []
  },
  {
   "cell_type": "markdown",
   "metadata": {},
   "source": [
    "A correct `grep` for counting sequence records, and using it to search these two files will get you the marks"
   ]
  },
  {
   "cell_type": "markdown",
   "metadata": {},
   "source": [
    "----"
   ]
  },
  {
   "cell_type": "markdown",
   "metadata": {},
   "source": [
    "## 3.3 Summary\n",
    "```\n",
    "head\tshow the first few lines of a file\n",
    "tail\tshow the last few lines of a file\n",
    "cat \tprint the whole file to the screen\n",
    "grep\tsearch, the -c flag counts the matches\n",
    "```"
   ]
  },
  {
   "cell_type": "markdown",
   "metadata": {},
   "source": [
    "## Quiz 2 (Googling is OK)\n",
    "How many lines does `head` display? How can that be changed? Show me\n",
    "\n",
    "Now write a `grep` search with the correct syntax to find \"Nematoda\" in 18S_seqs.fas. How many times does it occur?\n",
    "\n",
    "Write a `grep` search to find the DNA sequence \"GCCATGCG\" in 18S_seqs.fas. Why does it print out so much DNA sequence? How many times does GCCATGCG occur?"
   ]
  },
  {
   "cell_type": "markdown",
   "metadata": {},
   "source": [
    "----\n",
    "# *-- Pause Here --*#\n",
    "Please wait before proceeding with any more practical excercises.\n",
    "\n",
    "----"
   ]
  },
  {
   "cell_type": "markdown",
   "metadata": {},
   "source": [
    "# 4 Wildcards"
   ]
  },
  {
   "cell_type": "markdown",
   "metadata": {},
   "source": [
    "We have learned about displaying files and basic searches. Later you will create and move information into files. We need more detailed control however, not just displaying one named file, or all files, but instead the files we have specifically chosen. Wildcards allow us to select text and file names in a powerful and flexible way that makes life much easier."
   ]
  },
  {
   "cell_type": "markdown",
   "metadata": {},
   "source": [
    "## 4.1 What are wildcards?"
   ]
  },
  {
   "cell_type": "markdown",
   "metadata": {},
   "source": [
    "Wildcards represent characters, and allow you to create a search term to select files or directories. \n",
    "\n",
    "They allow selections to be both very broad (by having a general matching criteria, all file names beginning with a letter) and very specific (by having very detailed matching criteria, all files with f as the second letter and a number between 1 and 5 at the end). \n",
    "\n",
    "**Here is the basic set of wildcards:**\n",
    "\n",
    "`*` - represents any character ocurring zero or more times (nothing or everything). eg `f*` represents the letter f followed by any number of characters whatever they are. So files fez.txt, f1234.jpg and fibonacci.mpeg would all match, as would a file just called f.\n",
    "\n",
    "`?` - represents any single character. eg `d?g` would match dog, dig, or d8g\n",
    "\n",
    "`[ ]` - represents a specified range of single characters. eg `d[a-n]g` would match dag, dbg, dcg etc but not dog \n",
    "\n",
    "The most useful for you today will be the star (*) wildcard. Like all wildcards * helps to create a pattern (series of characters) and that pattern is used by the program to define what it does."
   ]
  },
  {
   "cell_type": "markdown",
   "metadata": {},
   "source": [
    "## 4.2 Listing using wildcards"
   ]
  },
  {
   "cell_type": "markdown",
   "metadata": {},
   "source": [
    "Previously `ls` has been used to display all files in a directory, but now lets select only certain files. In the world of big data there may be thousands of files of different file types, or with different metadata included in the file name. Selecting only the files meeting certain criteria is very useful. Later you will learn how to use these selected files, and only those selected.\n",
    "\n",
    "`ls` lists the contents of the working directory\n",
    "\n",
    "`ls /data` lists the contents of the data directory\n",
    "\n",
    "`ls /data/sequence1.fas` will list the specified file (sequence1.fas)\n",
    "\n",
    "`ls /data/*.fas` will list all files whose names are any number of any characters followed by “.fas”. So the files `sequence1.fas`, `sequence100.fas`, `dave.fas`, `1234.fas` will all match the pattern created by the * wildcard (*.fas)."
   ]
  },
  {
   "cell_type": "markdown",
   "metadata": {},
   "source": [
    "## Quiz 3\n",
    "With your partner write a command to find each of the following:\n",
    "\n",
    "1. all the .txt files \n",
    "2. all the .jpeg files? \n",
    "3. all the files named 1234 whatever file extension they have (.jpeg, .txt, .fas)\n",
    "4. How would you list only the fasta files beginning with “sequence” and not “Dave” or anything else? As a complication, one user has put sequence files with a .fas suffix, another with .fasta, and a third with .fa. This is bad naming practice, but we need all the fasta files. What wildcard command would list them out?\n",
    "----\n"
   ]
  },
  {
   "cell_type": "markdown",
   "metadata": {},
   "source": [
    "## 4.3 unix commands are case sensitive "
   ]
  },
  {
   "cell_type": "markdown",
   "metadata": {},
   "source": [
    "Most commands at the terminal are case sensitive, so `ls Dave.*` and `ls dave.*` will produce different results. \n",
    "This is a common error you should watch out for. There are ways to make commands **case insensitive** (so `Dave.fas` and `dave.fas` are treated the same) but it is not the default behaviour of command line programs."
   ]
  },
  {
   "cell_type": "markdown",
   "metadata": {},
   "source": [
    "## 4.4 Use wildcards anywhere"
   ]
  },
  {
   "cell_type": "markdown",
   "metadata": {},
   "source": [
    "The wildcards you are using are not specific to `ls`, it is the bash kernel (the program that runs the command line terminal) that does the hard work. It translates your wildcard pattern (`sequence*.fas`) into a list of files that match (`sequence1.fas`, `sequence100.fas`) and feeds those to the ls program. \n",
    "\n",
    "The good news is that it does this for every program not just ls so your new wildcard skills can be used anywhere."
   ]
  },
  {
   "cell_type": "markdown",
   "metadata": {},
   "source": [
    "----\n"
   ]
  },
  {
   "cell_type": "markdown",
   "metadata": {},
   "source": [
    "# Assessment 3 - file filtering and copying"
   ]
  },
  {
   "cell_type": "markdown",
   "metadata": {},
   "source": [
    "The command to copy a file is `cp`. Google it if you need. You can use `cp` in the same way as you used `ls`, incorporating wildcards to copy only certain files just as you have been doing already.\n",
    "\n",
    "**Write a command to take all the fasta files in the /data directory that begin with the word “sequence” and copy them to the `data/seqs` directory. **\n",
    "\n",
    "Your command will be structured like this (just an example, don't copy and paste it):\n",
    "\n",
    "`cp directory1/selected_files directory2/`\n",
    "\n",
    "You will have to supply three terms and assemble them correctly:\n",
    "1. \"directory1\" refers to where the files are\n",
    "2. \"directory2\" refers to where you will copy them\n",
    "3. “selected_files” term is your wildcard search for fasta files containing \"sequence\" that you probably already wrote above (Quiz 3.4).\n"
   ]
  },
  {
   "cell_type": "markdown",
   "metadata": {},
   "source": []
  },
  {
   "cell_type": "markdown",
   "metadata": {},
   "source": [
    "----"
   ]
  },
  {
   "cell_type": "markdown",
   "metadata": {},
   "source": [
    "## 4.5 Wildcards, optional extras "
   ]
  },
  {
   "cell_type": "markdown",
   "metadata": {},
   "source": [
    "This section can be skipped over if you are pushed for time. it provides details of other types of wildcard beyond the star. The more complex your search, the more you will have to use a full range of wildcards. You can read and see examples by Googling unix wildcards\n",
    "\n",
    "### 4.5.1 the ? wildcard\n",
    "As a brief example let's introduce the ? wildcard. \n",
    "\n",
    "`ls ?i*`\n",
    "\n",
    "In this example we are looking for each file whose second letter is “i” because our term translates as “any single character, followed by the letter ‘i’, followed by any number of characters”. As you can guess, the pattern can be built up using several wildcards.\n",
    "\n",
    "How would you find  every file with a three letter extension? \n",
    "\n",
    "`ls *.???`\n",
    "\n",
    "This is “any number of characters, followed by a dot, followed by 3 single characters but not more or less”\n",
    "\n",
    "### 4.5.2 the range operator (`[ ]`) wildcard\n",
    "The range operator (`[ ]`), unlike the previous 2 wildcards which specified any character, allows you to limit to a subset of characters. \n",
    "\n",
    "In this example we are looking for every file whose name either begins with an s or v.\n",
    "\n",
    "`ls [sv]*`\n",
    "\n",
    "And here any fasta record beginning with an s or d\n",
    "\n",
    "`ls data/[sd]*.fas`\n",
    "\n",
    "With ranges we may also include a set by using a hyphen. So for example if we wanted to find every file whose name includes a digit we could do the following:\n",
    "\n",
    "`ls *[0-9]*`\n",
    "\n",
    "To find all the numerically labelled fasta files (sequence1.fas, sequence100.fas) in our directory we could try this:\n",
    "\n",
    "`ls seq*[0-9].fas`\n"
   ]
  },
  {
   "cell_type": "markdown",
   "metadata": {},
   "source": [
    "# 5 Search, replace, and write output to a new file"
   ]
  },
  {
   "cell_type": "markdown",
   "metadata": {},
   "source": [
    "`grep` is an excellent tool for undertaking simple yet fast searches within text files. But to search and replace within a text file, or to redirect changes to a new file, we will need to use either `sed` or a simple script (OK there are actually numerous ways of doing this utilizing other tools and python scripts but this manual will only deal with simple examples with `sed`). First though we will write text using `echo` and learn about routing data to the right location with `>` `>>` and `<`."
   ]
  },
  {
   "cell_type": "markdown",
   "metadata": {},
   "source": [
    "## 5.1 echo, to write data"
   ]
  },
  {
   "cell_type": "markdown",
   "metadata": {},
   "source": [
    "A useful way to write to a text file is with `echo`. This will print to the screen or a file. A short introduction to `echo` can be found here if you wish to explore later, but the next sections are fairly self explanatory without it so no need to read now:\n",
    "https://www.computerhope.com/unix/uecho.htm\n",
    "\n",
    "Try these commands\n",
    "```\n",
    "$ echo Hello world!\n",
    "$ echo Hello world! > greeting.txt\n",
    "```"
   ]
  },
  {
   "cell_type": "code",
   "execution_count": 12,
   "metadata": {},
   "outputs": [],
   "source": [
    "echo Hello world! > greeting.txt"
   ]
  },
  {
   "cell_type": "markdown",
   "metadata": {},
   "source": [
    "It may not seem like this command has done anything, but it has. You have used the `>` to route the output to a file (greeting.txt) rather than to the screen."
   ]
  },
  {
   "cell_type": "markdown",
   "metadata": {},
   "source": [
    "## 5.2 routing, determine where your data goes"
   ]
  },
  {
   "cell_type": "markdown",
   "metadata": {},
   "source": [
    "If the file 'greeting.txt' does not exist it will be created. We have routed the information to a location (the file) with the greater than (`>`) symbol. If the file does exist it will be overwritten. Check the file now exists (how?), then you can use one of the commands above (cat maybe? Do you remember the others?) to inspect the file you have just created. \n",
    "\n",
    "If you wish to append text to a file rather than replace it you can use the `>>` symbol:\n",
    "\n",
    "`echo ‘Hello again world!’ >> greeting.txt`\n",
    "\n",
    "Try this and check your success. "
   ]
  },
  {
   "cell_type": "code",
   "execution_count": null,
   "metadata": {},
   "outputs": [],
   "source": []
  },
  {
   "cell_type": "markdown",
   "metadata": {},
   "source": [
    "**Routing syntax** (`>`, `>>`) is general to UNIX and can be used with other programs too, you saw an example earlier in the section on sed. Imagine that you need to add an extra fasta sequence to the end of a big sequence file, the append symbol `>>` will be helpful. In reality you would want to take your new text from a file rather than typing it it. In the sed example in section 2.3.1 above the source file was specified using a less than (<) symbol. "
   ]
  },
  {
   "cell_type": "markdown",
   "metadata": {},
   "source": [
    "----"
   ]
  },
  {
   "cell_type": "markdown",
   "metadata": {},
   "source": [
    "## Quiz 3 Concatenation"
   ]
  },
  {
   "cell_type": "markdown",
   "metadata": {},
   "source": [
    "**Background thought experiment, discuss**\n",
    "\n",
    "Describe to your partner how, using MS Word, you would open a directory of 3 fasta files and copy the contents of each file into a new \"all_seqs.fas\" file and estimate how quickly you could do this.\n",
    "\n",
    "Now describe how you would do that in Word with 3000 fasta files, or 3,000,000 files and estimate how long it would take. At the command line these solutions (3; 3,000; 3,000,000) are identical and the same amount of work for you! \n",
    "\n",
    "A common bioinformatics task is to **concatenate** a lot of individual sequence files into one single file as described above. This is very time consuming to do in a GUI if you have more than a couple of files to open, copy, close, open, paste. The task at the command line however scales easily to almost any number of files. \n",
    "\n",
    "**Now come up with a solution**\n",
    "\n",
    "You already have all the skills to do this if you learned about wildcards and routing before. Don't worry if not, discuss it and ask for help. It is most important that you know that the command line *scales*. Your cammand that you write here will be *exactly* the same if you concatenate 3 or 3,000,000 fasta files. If you can work out how to do this, and get the syntax correct, show a demonstrator or myself.\n",
    "\n",
    "**Try these 3 tasks:**\n",
    "\n",
    "Go to the `fasta-to-combine` directory. \n",
    "\n",
    "Concatenate all 10 sequence files into a new file with an informative name. \n",
    "\n",
    "Can you do the same excluding the contents of the README.md file? Demonstrate your success by inserting cells below"
   ]
  },
  {
   "cell_type": "markdown",
   "metadata": {},
   "source": [
    "----"
   ]
  },
  {
   "cell_type": "markdown",
   "metadata": {},
   "source": [
    "## 5.3 stucturing data files with echo"
   ]
  },
  {
   "cell_type": "markdown",
   "metadata": {},
   "source": [
    "`echo` also allows us to format files correctly. If we need newlines or tabs inserted we can do this by using the -e flag. The tab symbol is `\\t` and newline `\\n`. \n",
    "\n",
    "Can you use these to better format the file \"greeting.txt\" that you created before in the \"routing, determine where your data goes\" section?\n",
    "\n",
    "Try to imagine what the following command will write & discuss with others:\n",
    "\n",
    "`echo -e “column1\\tcolumn2\\nRNA\\tDNA” > rna-dna-columns.txt`\n",
    "\n",
    "Check your success. These commands are useful when writing a lot of data to a file programmatically, and when format is important, which is a very common situation for bioinformatics work."
   ]
  },
  {
   "cell_type": "markdown",
   "metadata": {},
   "source": [
    "Something that is often useful when working with lots of files, as bioinformaticians do, is to know that `echo` can write file information like file names\n",
    "\n",
    "`echo *.fas > fasta-file-names.txt`\n",
    "\n",
    "This would write the name of every file in the current directory with a .fas extension to a file called fasta-file-names.txt.\n",
    "This could be very useful when you need to record lots of output file information. Although I am talking only about bioinformatics today, big data is everywhere in biology. You can manipulated text files of any type of data using your new skills."
   ]
  },
  {
   "cell_type": "markdown",
   "metadata": {},
   "source": [
    "## 5.4 `sed`, the stream editor"
   ]
  },
  {
   "cell_type": "markdown",
   "metadata": {},
   "source": [
    "`sed` works best when we need to deal with files as single lines, or rows of text data. Since `sed` doesn’t try to take the whole file into memory, instead dealing with a line at a time, it has real advantages when files are enormous- as they often are for sequence data.\n",
    "To search for and replace Fungi with Fungus in our 18S_seqs.fas file we could do the following:\n",
    "\n",
    "`sed 's/Fungi/Fungus/' < 18S_seqs.fas > fungi-to-fungus.fas`\n",
    "\n",
    "This will replace the single word Fungi we identified using grep with the word Fungus, but output these changes to the file fungi-to-fungus.fas, leaving the original file unchanged. The `s` within the single quotes signifies this is a substitution command and the `/` characters are delimiters that separate the text to search for, and the text to replace it with. \n",
    "\n",
    "In UNIX based systems the `<` signifies an input, so we are taking input from our 18S_seqs.fas file and outputting (`>`) to fungi-to-fungus.fas. \n",
    "\n",
    "NB the examples below in the rest of this section are tricky, but they are to get you thinking. They are teaching not assessment. Try to understand, discuss, ask. Do not give up, you have made great progress up until here!\n",
    "\n",
    "Tip: Always give meaningful names to files and directories, even if that makes them seem long. The person you are doing this for is ‘future you’ who will remember less than you think, need clear filenames as one of the ways to make sense of the data, how it has been transformed, and to help record a reproducible experiment. It is very useful to have a filename like: \n",
    "\n",
    "`whitby-FDS12763-nematode18S-lenfiltered200bp-uniquespecies.fas`\n",
    "\n",
    "Can you guess what this file contains, where it is from, what type of sample, how it has been treated bioinformatically? 'Future you' will be able to read the info. Another reason the information-in-filename approach is very useful is that it contains a lot of information you can use for analysis. If you had 1000 files from separate sampling points, you could choose which files to pull data from based on names like “whitby” or maybe the sample code “FDS”. If you wanted to grab data just from enoplid nematodes from only the Whitby samples you could find and list (concatenate) those with a search, and pipes `|` to string several jobs together. \n",
    "\n",
    "Below is an example, **these files don’t exist here**, its just an example, but you are going to try it yourself on files that do.\n",
    "\n",
    "`cat ~/allsamples/*whitby*.fas | grep enoplida | sort | uniq -c`\n",
    "\n",
    "Task: Google, discuss, and ask until you **know what this command does, you do not need to run this**. To help your searches the asterisks are called ‘unix wildcards’ -why are they used? Wildcards are simple and incredibly powerful, check with a demonstrator, you will need this asterisk wildcard below. unix pipes (`|`) are one of the most powerful aspects of bioinformatics at the command line. They are a bit like the semicolon used earlier, but for data. Maybe Google unix pipes and discuss with a demonstrator?"
   ]
  },
  {
   "cell_type": "markdown",
   "metadata": {},
   "source": [
    "# 6 Why use the command line?"
   ]
  },
  {
   "cell_type": "markdown",
   "metadata": {},
   "source": [
    "I think this section is the most important of the entire practical class. Not because of the specific command line skills (though they are useful) but because I want you to understand *why* we use the command line at all, what are its special powers. These exercises are hard, if you can't easily do them, think through a strategy to do them instead, even though you can't think of the specific commands, and discuss with a demonstrator.\n",
    "\n",
    "Think for a moment how much work this single line is actually doing and how long it would take manually? Now consider that a single sequence run (4 days) might generate 100 of these files, and a month of lab work thousands. The work to process all these thousands of files containing hundreds of thousands of fasta sequences is however exactly the same, just the command above run on a bigger directory of data. Command line approaches may seem no quicker on a single file, but they scale well. No bioinformatician would work in graphical interface software for real data, not only is it not reproducible, but every repeat of the task requires the same amount of work again.\n",
    "\n",
    "The tasks below are hard. If you can understsand the lesson that they demonstrate I will be happy. It would be much better if you actually successfully complete them.\n",
    "\n",
    "TASK: In the folder hep_cd you have 182 fasta files containing either hapatitis C or hapatitis D viral sequences from patients in London or Hull. Make a detailed protocol (don't actually perform the steps, just detail them) for using Word to copy/paste the header lines to a new document for each of the 4 treatments C/D Hull/London. How would you check for duplicates? \n",
    "\n",
    "TASK: Now make a detailed protocol for using your command line skills to do this. How would you check for any that are duplicates and delete them? How would you count the remaining unique headers? Can you use the example above to complete this command? You may give it a try if you like, but designing the experiment and getting it checked is enough.\n",
    "\n",
    "Now I have a second (imaginary) file with 1800 fasta sequences. I would like you to think how much effort that takes to process with (a) Word (b) re-runnning your terminal command.\n",
    "\n",
    "OK, now for the real data, there are 15 million fasta sequences in a text file...\n",
    "\n",
    "I hope you understand that **the command line scales**, its the same work to process 182 sequences as it is 15 million. That is not true for GUI menu-driven programs. 15 million fasta sequences is a small and routine dataset for bioinformatics.\n",
    "\n",
    "TASK: Go to the headers directory. Extract all the header lines from `headers-test.fas`. How many are there? Are there any duplicates or are they all unique (`uniq`)? After reading the section below you may be able to work out how to write it to a new file with an informative name. Consider for a moment how much extra work **you** would have to do to run the same analysis on a file with millions rather than hundreds of sequences. \n",
    "\n",
    "Well done, please ask a demonstrator for a high five.\n"
   ]
  },
  {
   "cell_type": "markdown",
   "metadata": {},
   "source": [
    "## Summary\n",
    "```\n",
    "echo\twrite to a file\n",
    "sed\tsearch and replace\n",
    "<\ttake input from named file\n",
    ">\tdirect output to named file, replacing\n",
    ">>\tdirect output to named file, appending\n",
    "|\tpipe, used to chain together commands\n",
    "*   wildcard, stands for 'any characters'\n",
    "```\n",
    "\n",
    "Test yourselves. In pairs ask each other to explain what itens fro mthe list above do. Each of you ask the other to come up with a (not too difficult) command line using one or two of them."
   ]
  },
  {
   "cell_type": "markdown",
   "metadata": {},
   "source": [
    "## Congratulations!\n",
    "You have navigated the unix command line, searching and formatting data files, using a range of powerful unix commands, on large amounts of DNA data. You have created and searched a blast database of the human genome to detect a very important single mutation. **You are now a bioinformatician!** "
   ]
  },
  {
   "cell_type": "markdown",
   "metadata": {},
   "source": [
    "----\n",
    "\n",
    "# THIS IS REALLY IMPORTANT DON'T SKIP THIS SECTION\n",
    "## At the end of the practical save and upload your practical notebook\n",
    "Check your name and student ID are in a cell at the top of this page. \n",
    "\n",
    "Use the notebok file menu (not the browser menu) `File/Download As/.pdf`\n",
    "\n",
    "Save this PDF somewhere safe. You should rename it informatively. How many pages is it? If it is >20 pages you have done something wrong, probably by using `cat` on a very large file. Do not submit, go back and have another try. Now upload it to the Canvas assignment for \"Practical 2- bioinformatics\"\n",
    "\n",
    "YOU ARE NOW COMPLETELY FINISHED, WELL DONE"
   ]
  },
  {
   "cell_type": "markdown",
   "metadata": {},
   "source": [
    "----\n",
    "\n",
    "# Appendix 1 the fasta file format\n",
    "Fasta (pronounced “fast- ay” to rhyme with May) is a concise standard text file format used for sequence data. A fasta file may contain one or many separate sequence records, each in fasta format. You will need to use this format several times during today’s session. Both DNA and amino acid sequences can be formatted this way. Essentially it is a greater than symbol “>” followed by any title you want to give it, then, starting on the next line, the sequence.\n",
    "\n",
    "### Here is the description of FASTA from GenBank.\n",
    "“A sequence in FASTA format begins with a single-line description, followed by lines of sequence data. The description line is distinguished from the sequence data by a greater-than (\">\") symbol in the first column”\n",
    "\n",
    "Example sequences in FASTA format are: \n",
    "```\n",
    ">AAH22472.1 Malic enzyme 3, NADP(+)-dependent, mitochondrial [Homo sapiens]\n",
    "MGAALGTGTRLAPWPGRACGALPRWTPTAPAQGCHSKPGPARPVPLKKRGYDVTRNPHLNKGMAFTLEER\n",
    "LQLGIHGLIPPCFLGQDVQLLRIMGYYERQQSDLDKYIILMTLQDRNEKLFYRVLTSDVEKFMPIVYTPT\n",
    "VGLACQHYGLTFRRPRGLFITIHDKGHLATMLNSWPEDNIKAVVVTDGERILGLGDLGCYGMGIPVGKLA\n",
    "LYTACGGVNPQQCLPVLLDVGTNNEELLRDPLYIGLKHQRVHGKAYDDLLDEFMQAVTDKFGINCLIQFE\n",
    "\n",
    ">My sequence of elephant skin-wrinkle gene\n",
    "CCGGGCTCTGCCTCGATGCAAACGTTATGCATATATGTATTATCACCATTATTTTATATCAAACATATCC\n",
    "TATATATTAATACATCTCATTTAACAGAAATATAGGTAGATATACCACATATTTGTCAACAACATTTTAA\n",
    "CTAAGGGGTACATAAACCATAACTAAGTACTCTCCAATAAATATTTATTAATTACTGAACGATAGTTTAA\n",
    "GACCGATCACAACTCTCACTGGTTAAGATATACCAAGTACCCACCATCCTATTTACCTCCCTTATTTAAT\n",
    "GTAGTAAGAGCCCACCATCAGTTGATTTCTTAATGTTAACGGTTCTTGAAGGTCAAGGACAAATATTCGT\n",
    "GGGGGTTTCACTTAGTGAACTATTCCTGGCATCTGGTTCCTATTTCAGGTCCAATAATTGTTATAATTCC\n",
    "CCATACTTTCATCGACGCTTGCATAAGTTAATGGTGGTAATACATACTCCTCGTTACCCACCATGCCGGG\n",
    "CGTTCTTTCCAGCGTGTGGGGGGTTCTCTTTTTTTTTNNCCTTTCA\n",
    "```\n",
    "### Fasta format records and fasta files\n",
    "Above are two fasta records. A fasta record contains only a single header with a single sequence. It is one thing. The record is in fasta format because it is a greater than symbol, then a header, then the sequence.\n",
    "\n",
    "A fasta file is a text file. It usually has the extension .fas or .fsa or .fna or .fasta. Each text file may contain one or more than one fasta record. It is not uncommon to have tens of thousands of fasta records in a single text file. For it to count as a fasta file all the records must be in valid fasta format."
   ]
  },
  {
   "cell_type": "markdown",
   "metadata": {},
   "source": [
    "## Appendix 2 some extra things to try\n",
    "\n",
    "### `head` and `tail`\n",
    "These commands show the first few or the last few lines of the file. How can you control how many lines are shown?\n",
    "If you wanted to take the last 5 or the first 5 lines of a big text file and save them in a new file, how might you go about it?\n",
    "\n",
    "### `help` and `man`\n",
    "unix has a built-in help system. You can type the name of the program causing confusion and `--help` to get more information on functionality and correct usage. Try\n",
    "\n",
    "`ls -help`\n",
    "\n",
    "There are also manuals to help you. These can be brought up with the `man` command. Try\n",
    "\n",
    "`man ls`\n",
    "\n",
    "### word counting\n",
    "unix has a word count program called `wc`\n",
    "\n",
    "What can you find out about it and how to use it?\n",
    "\n",
    "How many characters are in the CFTRshort.fas DNA sequence file?\n",
    "\n",
    "One problem is that the file contains both a fasta header and the sequence. If you only want the length of the DNA sequence a simple `wc` may not give you the right information. Can you think of any way around this?"
   ]
  },
  {
   "cell_type": "markdown",
   "metadata": {},
   "source": [
    "## Appendix 3\n",
    "### Some reading if you wish to extend your knowledge\n",
    "- UNIX Tutorial for Beginners http://www.ee.surrey.ac.uk/Teaching/Unix/\n",
    "- Command line history tricks http://www.thegeekstuff.com/2008/08/15-examples-to-master-linux-command-line-history/\n",
    "- Software Carpentry Introduction to the unix shell on YouTube (great short videos) \n",
    "- Unix and Perl Primer for Biologists http://korflab.ucdavis.edu/Unix_and_Perl/unix_and_perl_v3.0.pdf\n",
    "- Bradnam and Korf. (2012) UNIX and Perl to the Rescue!: A Field Guide for the Life Sciences (and Other Data-rich Pursuits). ISBN-10: 0521169828  ISBN-13: 978-0521169820 http://www.amazon.co.uk/gp/product/0521169828\n",
    "- GREP http://www.gnu.org/software/grep/manual/grep.html\n",
    "- SED http://www.gnu.org/software/sed/manual/sed.html\n",
    "- Software Carpentry Introduction to programming in Python (great short YouTube videos) \n",
    "- Python for Biologists http://pythonforbiologists.com\n",
    "- Python for non-programmers https://wiki.python.org/moin/BeginnersGuide/NonProgrammers"
   ]
  },
  {
   "cell_type": "code",
   "execution_count": null,
   "metadata": {},
   "outputs": [],
   "source": []
  }
 ],
 "metadata": {
  "kernelspec": {
   "display_name": "Bash",
   "language": "bash",
   "name": "bash"
  },
  "language_info": {
   "codemirror_mode": "shell",
   "file_extension": ".sh",
   "mimetype": "text/x-sh",
   "name": "bash"
  }
 },
 "nbformat": 4,
 "nbformat_minor": 2
}
